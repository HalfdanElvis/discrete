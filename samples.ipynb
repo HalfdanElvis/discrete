{
 "cells": [
  {
   "cell_type": "code",
   "execution_count": 2,
   "metadata": {},
   "outputs": [],
   "source": [
    "from tools import *"
   ]
  },
  {
   "cell_type": "markdown",
   "metadata": {},
   "source": [
    "# Extended Euclidean Algorithm\n",
    "Prints a table with all values, as well as the linear combination."
   ]
  },
  {
   "cell_type": "code",
   "execution_count": 3,
   "metadata": {},
   "outputs": [
    {
     "name": "stdout",
     "output_type": "stream",
     "text": [
      "i \t r_i \t r_i+1 \t q_i+1 \t r_i+2 \t s_i \t t_i\n",
      "0 \t 189 \t 232 \t 0 \t 189 \t 1 \t 0\n",
      "1 \t 232 \t 189 \t 1 \t 43 \t 0 \t 1\n",
      "2 \t 189 \t 43 \t 4 \t 17 \t 1 \t 0\n",
      "3 \t 43 \t 17 \t 2 \t 9 \t -1 \t 1\n",
      "4 \t 17 \t 9 \t 1 \t 8 \t 5 \t -4\n",
      "5 \t 9 \t 8 \t 1 \t 1 \t -11 \t 9\n",
      "6 \t 8 \t 1 \t 8 \t 0 \t 16 \t -13\n",
      "\t\t\t\t\t -27 \t 22\n",
      "1 = (-27)*189 + (22)*232\n"
     ]
    },
    {
     "data": {
      "text/plain": [
       "(1, -27, 22)"
      ]
     },
     "execution_count": 3,
     "metadata": {},
     "output_type": "execute_result"
    }
   ],
   "source": [
    "min_gcd(189,232)"
   ]
  },
  {
   "cell_type": "markdown",
   "metadata": {},
   "source": [
    "# System of congruences\n",
    "#vi ønsker at løse systemet: x ≡ 2 mod 6 og x ≡ 3 mod 7\n",
    "syssolver([[2,6],[3,7]])\n",
    "\n",
    "Works by:\n",
    "$$\n",
    "x \\equiv a_1 \\mod{n_1}\\\\\n",
    "x \\equiv a_2 \\mod{n_2}\\\\\n",
    "x \\equiv a_3 \\mod{n_3}\n",
    "$$\n",
    "Call the function like this: `congruences_system_solver([[a_1, n_1], [a_2, n_2], [a_3,n_3]])`\n",
    "First output returned is the smallest pos int solution to the system of congruences.\n",
    "\n",
    "\n",
    "Want to solve\n",
    "$$\n",
    "x \\equiv 2 \\mod{6}\\\\\n",
    "x \\equiv 3 \\mod{7}\n",
    "$$\n"
   ]
  },
  {
   "cell_type": "code",
   "execution_count": 4,
   "metadata": {},
   "outputs": [
    {
     "data": {
      "text/plain": [
       "(38, 42, [7, 6], [1, -1])"
      ]
     },
     "execution_count": 4,
     "metadata": {},
     "output_type": "execute_result"
    }
   ],
   "source": [
    "congruences_system_solver([[2,6],[3,7]])"
   ]
  },
  {
   "cell_type": "markdown",
   "metadata": {},
   "source": [
    "So the answer we get is `(38, 42, [7, 6], [1, -1])` where $38$ is the smallest non-negative integer solution to the system of congruences. $42$ is the least common multiple of the moduli if the moduli are pairwise coprime.\n",
    "This means the full solution can be written as $\\{38 + 42k \\mid k \\in \\mathbb{Z}\\}$"
   ]
  },
  {
   "cell_type": "code",
   "execution_count": 5,
   "metadata": {},
   "outputs": [
    {
     "data": {
      "text/plain": [
       "(68, 105, [35, 21, 15], [-1, 1, 1])"
      ]
     },
     "execution_count": 5,
     "metadata": {},
     "output_type": "execute_result"
    }
   ],
   "source": [
    "congruences_system_solver([[2,3],[3,5],[5,7]])"
   ]
  },
  {
   "cell_type": "markdown",
   "metadata": {},
   "source": [
    "So all solutions can be written as $\\{68 + 105k \\mid k \\in \\mathbb{Z}\\}$"
   ]
  },
  {
   "cell_type": "markdown",
   "metadata": {},
   "source": [
    "\n",
    "# Quantifier logic to human readable format WIP\n",
    "Maybe use this if you are completely lost on a quantifier statement. But remember it is not working 100% of the time. Either give your input as latex or as a raw string with the symbols.\n",
    "\n",
    "`explain_quantifiers(input_string)`\n"
   ]
  },
  {
   "cell_type": "code",
   "execution_count": 6,
   "metadata": {},
   "outputs": [
    {
     "data": {
      "text/plain": [
       "'For all x in the set of all real numbers There exists y in the set of all real numbers where x is less than y'"
      ]
     },
     "execution_count": 6,
     "metadata": {},
     "output_type": "execute_result"
    }
   ],
   "source": [
    "input_string = (\n",
    "    r\"\\forall x \\in \\mathbb{R} \\exists y \\in \\mathbb{R} (x < y)\"\n",
    ")\n",
    "explain_quantifiers(input_string)"
   ]
  },
  {
   "cell_type": "code",
   "execution_count": 7,
   "metadata": {},
   "outputs": [
    {
     "data": {
      "text/plain": [
       "'For allx in the set of all real numbers For allz in the set of all real numbers where x is not equal to z implies that (There existsy in the set of all real numbers (x is less than y is less than z or There existsy in the set of all real numbers where z is less than y is less than x))'"
      ]
     },
     "execution_count": 7,
     "metadata": {},
     "output_type": "execute_result"
    }
   ],
   "source": [
    "input_string = \"∀x ∈ ℝ ∀z ∈ ℝ (x ≠ z → (∃y ∈ ℝ (x < y < z) ∨ ∃y ∈ ℝ (z < y < x)))\"\n",
    "explain_quantifiers(input_string)"
   ]
  },
  {
   "cell_type": "markdown",
   "metadata": {},
   "source": [
    "# Permutations \n",
    "Can also be used for bitstrings. Returns all the permutations. Then you can afterwards create a program, which can count the pattern you are looking for."
   ]
  },
  {
   "cell_type": "code",
   "execution_count": 8,
   "metadata": {},
   "outputs": [
    {
     "name": "stdout",
     "output_type": "stream",
     "text": [
      "114 do not contain abc\n",
      "42 contain ab or bc\n",
      "36 contain ab or bc but not abc\n"
     ]
    }
   ],
   "source": [
    "perms = get_permutations('abcde')\n",
    "\n",
    "# task could be to figure out how many DO NOT contain abc\n",
    "count = 0\n",
    "pattern = 'abc'\n",
    "for perm in perms:\n",
    "    if pattern not in perm:\n",
    "        count +=1\n",
    "print(f'{count} do not contain {pattern}')\n",
    "\n",
    "# contain ab or ac\n",
    "count = 0\n",
    "pattern1 = 'ab'\n",
    "pattern2 = 'bc'\n",
    "for perm in perms:\n",
    "    if pattern1 in perm or pattern2 in perm:\n",
    "        count +=1\n",
    "print(f'{count} contain {pattern1} or {pattern2}')\n",
    "\n",
    "#How many contain ab or bc but not abc?\n",
    "pattern1 = 'ab'\n",
    "pattern2 = 'bc'\n",
    "pattern3 = 'abc'\n",
    "\n",
    "count = 0\n",
    "for perm in perms:\n",
    "    if pattern1 in perm or pattern2 in perm:\n",
    "        if pattern3 not in perm:\n",
    "            count +=1\n",
    "print(f'{count} contain ab or bc but not abc')"
   ]
  },
  {
   "cell_type": "markdown",
   "metadata": {},
   "source": [
    "# Guide to Finding Coefficients in Polynomial Expansions\n",
    "\n",
    "This guide explains how to compute the coefficient of a specific term in the expansion of a polynomial like \\((2x + 3y)^9\\) using Python and the SymPy library. Say we want to find the coefficient of $x^7y^2$.\n",
    "\n",
    "---\n",
    "\n",
    "## Step 1: Understand the Binomial Formula\n",
    "For a binomial expression \\((ax + by)^n\\), the coefficient of \\(x^k y^m\\) is given by:\n",
    "\n",
    "$$\n",
    "\\text{Coefficient} = \\binom{n}{k} \\cdot a^k \\cdot b^m\n",
    "$$\n",
    "\n",
    "where:\n",
    "- \\(n\\) is the power of the binomial.\n",
    "- \\(k\\) is the power of \\(x\\).\n",
    "- \\(m = n - k\\) is the power of \\(y\\).\n",
    "- \\(a\\) and \\(b\\) are the coefficients of \\(x\\) and \\(y\\), respectively.\n",
    "\n",
    "---\n",
    "\n",
    "## Step 2: Python Code\n",
    "\n",
    "Use the following Python code to calculate the coefficient:\n"
   ]
  },
  {
   "cell_type": "code",
   "execution_count": 9,
   "metadata": {},
   "outputs": [
    {
     "name": "stdout",
     "output_type": "stream",
     "text": [
      "The coefficient of x^7y^2 in (2x + 3y)^9 is: 41472\n"
     ]
    }
   ],
   "source": [
    "from sympy import symbols, binomial\n",
    "\n",
    "# (2x + 3y)^9 want to find the coefficient of x^7*y^2\n",
    "\n",
    "# Define variables\n",
    "x, y = symbols('x y')\n",
    "\n",
    "# Define parameters\n",
    "n = 9   # Power of the binomial\n",
    "k = 7   # Power of x\n",
    "m = 2   # Power of y\n",
    "a = 2   # Coefficient of x\n",
    "b = 3   # Coefficient of y\n",
    "\n",
    "# Calculate the coefficient\n",
    "coefficient = binomial(n, k) * (a**k) * (b**m)\n",
    "\n",
    "# Output the result\n",
    "print(f\"The coefficient of x^{k}y^{m} in (2x + 3y)^{n} is: {coefficient}\")"
   ]
  },
  {
   "cell_type": "code",
   "execution_count": 10,
   "metadata": {},
   "outputs": [
    {
     "name": "stdout",
     "output_type": "stream",
     "text": [
      "The coefficient of x^5y^3 is: 60025000\n"
     ]
    }
   ],
   "source": [
    "from sympy import symbols, binomial\n",
    "\n",
    "# (5x + 7y)^8 want to find the coefficient of x^5*y^3\n",
    "\n",
    "# Define variables\n",
    "x, y = symbols('x y')\n",
    "\n",
    "# Define parameters\n",
    "n = 8   # Power of the binomial\n",
    "k = 5   # Power of x in x^5*y^3\n",
    "m = 3   # Power of y in x^5*y^3\n",
    "a = 5   # Coefficient of x in (5x + 7y)^8\n",
    "b = 7   # Coefficient of y in (5x + 7y)^8\n",
    "\n",
    "# Calculate the coefficient\n",
    "coefficient = binomial(n, k) * (a**k) * (b**m)\n",
    "\n",
    "# Output the result\n",
    "print(f\"The coefficient of x^{k}y^{m} is: {coefficient}\")\n"
   ]
  },
  {
   "cell_type": "code",
   "execution_count": 11,
   "metadata": {},
   "outputs": [
    {
     "name": "stdout",
     "output_type": "stream",
     "text": [
      "The coefficient of x^12y^13 is: 5200300\n"
     ]
    }
   ],
   "source": [
    "#What is the coeﬃcient of x^12y^13 in the expansion of (x +y)^25?\n",
    "n = 25\n",
    "k = 12\n",
    "m = 13\n",
    "a = 1\n",
    "b = 1\n",
    "\n",
    "coefficient = binomial(n, k) * (a**k) * (b**m)\n",
    "\n",
    "# Output the result\n",
    "print(f\"The coefficient of x^{k}y^{m} is: {coefficient}\")"
   ]
  },
  {
   "cell_type": "markdown",
   "metadata": {},
   "source": [
    "# Binomial stuff \"FIGURE OUT WHAT I AM CALLED PROPERLY\"\n",
    "\n",
    "Lets say we want to figure out if the following is true:\n",
    "$$\n",
    "n \\cdot 2^{n-1} = \\sum_{k=1}^n \\binom{n}{k} \\cdot k\n",
    "$$"
   ]
  },
  {
   "cell_type": "code",
   "execution_count": 19,
   "metadata": {},
   "outputs": [
    {
     "data": {
      "text/latex": [
       "$\\displaystyle 2^{n - 1} n$"
      ],
      "text/plain": [
       "2**(n - 1)*n"
      ]
     },
     "execution_count": 19,
     "metadata": {},
     "output_type": "execute_result"
    }
   ],
   "source": [
    "from sympy import symbols, binomial, summation, Eq, simplify\n",
    "\n",
    "# Define the variables\n",
    "# positive true does such that n and k are assumed to be greater than 0.\n",
    "n, k = symbols('n k', integer=True, positive=True)\n",
    "\n",
    "\n",
    "# summation(expression, (variable, lower_limit, upper_limit)) computes the sum of the expression over the specified range.\n",
    "\n",
    "# Options\n",
    "option_1 = summation(binomial(n, k) * k, (k, 1, n))\n",
    "# option_2 = summation(binomial(n, k) * binomial(n, k+1), (k, 0, n-1))\n",
    "# option_3 = summation(2**k, (k, 1, n))\n",
    "# option_4 = summation(2**k, (k, 0, n-1))\n",
    "\n",
    "simplify(option_1)\n",
    "\n"
   ]
  },
  {
   "cell_type": "markdown",
   "metadata": {},
   "source": [
    "# Number of derangements"
   ]
  },
  {
   "cell_type": "code",
   "execution_count": 12,
   "metadata": {},
   "outputs": [
    {
     "name": "stdout",
     "output_type": "stream",
     "text": [
      "The number D_6 is 265\n"
     ]
    }
   ],
   "source": [
    "number_of_elements = 6\n",
    "number_of_derangements = calculate_derangements(number_of_elements)\n",
    "print(f'The number D_{number_of_elements} is {number_of_derangements}')\n"
   ]
  }
 ],
 "metadata": {
  "kernelspec": {
   "display_name": "venv",
   "language": "python",
   "name": "python3"
  },
  "language_info": {
   "codemirror_mode": {
    "name": "ipython",
    "version": 3
   },
   "file_extension": ".py",
   "mimetype": "text/x-python",
   "name": "python",
   "nbconvert_exporter": "python",
   "pygments_lexer": "ipython3",
   "version": "3.11.9"
  }
 },
 "nbformat": 4,
 "nbformat_minor": 2
}
